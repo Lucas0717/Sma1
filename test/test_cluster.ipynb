{
 "cells": [
  {
   "cell_type": "code",
   "execution_count": 11,
   "metadata": {},
   "outputs": [
    {
     "name": "stdout",
     "output_type": "stream",
     "text": [
      "repos nums: 1869\n",
      "repos which have no dependency files: 0\n",
      "repos with dependency files: 1869\n",
      "distinct dependency file: 12947\n"
     ]
    },
    {
     "name": "stderr",
     "output_type": "stream",
     "text": [
      "E:\\Anaconda\\lib\\site-packages\\gensim\\models\\doc2vec.py:319: UserWarning: The parameter `size` is deprecated, will be removed in 4.0.0, use `vector_size` instead.\n",
      "  warnings.warn(\"The parameter `size` is deprecated, will be removed in 4.0.0, use `vector_size` instead.\")\n"
     ]
    },
    {
     "name": "stdout",
     "output_type": "stream",
     "text": [
      "-----------\n",
      "Kmeans:\n",
      "topic 0 : repos num: 1325\n",
      "topic 1 : repos num: 44\n",
      "topic 2 : repos num: 9\n",
      "topic 3 : repos num: 68\n",
      "topic 4 : repos num: 36\n",
      "topic 5 : repos num: 147\n",
      "topic 6 : repos num: 36\n",
      "topic 7 : repos num: 3\n",
      "topic 8 : repos num: 38\n",
      "topic 9 : repos num: 163\n",
      "-----------\n",
      "GMM:\n",
      "[[7.94178673e-011 0.00000000e+000 0.00000000e+000 ... 1.00000000e+000\n",
      "  0.00000000e+000 2.20130418e-103]\n",
      " [1.23376570e-195 0.00000000e+000 0.00000000e+000 ... 0.00000000e+000\n",
      "  0.00000000e+000 0.00000000e+000]\n",
      " [3.76330885e-012 0.00000000e+000 0.00000000e+000 ... 1.00000000e+000\n",
      "  0.00000000e+000 8.85384783e-075]\n",
      " ...\n",
      " [8.76908129e-009 0.00000000e+000 0.00000000e+000 ... 9.99999991e-001\n",
      "  0.00000000e+000 2.81256687e-120]\n",
      " [1.17268599e-017 0.00000000e+000 0.00000000e+000 ... 1.00000000e+000\n",
      "  0.00000000e+000 3.73937193e-072]\n",
      " [7.89668528e-008 0.00000000e+000 0.00000000e+000 ... 9.99999921e-001\n",
      "  0.00000000e+000 6.01565562e-110]]\n",
      "-----------\n",
      "LDA:\n",
      "Perplexity:  -8.75247979015459\n",
      "Coherence Score:  0.6670300120458954\n",
      "(0, '0.029*\"pylint\" + 0.023*\"xarray\" + 0.012*\"protobuf\" + 0.010*\"sphinx-autodoc-typehints\" + 0.009*\"mypy\"')\n",
      "(1, '0.006*\"@babel/parser\" + 0.006*\"@babel/core\" + 0.005*\"@babel/helper-module-imports\" + 0.005*\"@babel/helpers\" + 0.005*\"@babel/helper-optimise-call-expression\"')\n",
      "(2, '0.026*\"junit:junit\" + 0.023*\"org.apache.maven.plugins:maven-compiler-plugin\" + 0.017*\"org.apache.maven.plugins:maven-surefire-plugin\" + 0.013*\"org.apache.maven.plugins:maven-source-plugin\" + 0.011*\"org.apache.maven.plugins:maven-jar-plugin\"')\n",
      "(3, '0.024*\"org.apache.maven.plugins:maven-javadoc-plugin\" + 0.012*\"org.apache.maven.plugins:maven-gpg-plugin\" + 0.008*\"org.sonatype.plugins:nexus-staging-maven-plugin\" + 0.008*\"kramdown\" + 0.008*\"sass\"')\n",
      "(4, '0.017*\"python-dateutil\" + 0.015*\"six\" + 0.015*\"pytz\" + 0.014*\"requests\" + 0.013*\"pyparsing\"')\n",
      "(5, '0.004*\"debug\" + 0.004*\"core-util-is\" + 0.004*\"concat-map\" + 0.004*\"commander\" + 0.004*\"chalk\"')\n",
      "(6, '0.093*\"numpy\" + 0.059*\"scipy\" + 0.053*\"matplotlib\" + 0.051*\"pandas\" + 0.038*\"pytest\"')\n",
      "(7, '0.021*\"nbsphinx\" + 0.015*\"coveralls\" + 0.014*\"twine\" + 0.011*\"mpi4py\" + 0.010*\"tox\"')\n",
      "(8, '0.025*\"tensorflow\" + 0.011*\"load-grunt-tasks\" + 0.009*\"pyserial\" + 0.006*\"gevent\" + 0.005*\"flask-cors\"')\n",
      "(9, '0.008*\"semver\" + 0.007*\"isort\" + 0.006*\"minimatch\" + 0.005*\"wrapt\" + 0.005*\"js-tokens\"')\n"
     ]
    },
    {
     "name": "stderr",
     "output_type": "stream",
     "text": [
      "ERROR: usage: ipykernel_launcher.py [options] [file_or_dir] [file_or_dir] [...]\n",
      "ipykernel_launcher.py: error: unrecognized arguments: -f\n",
      "  inifile: None\n",
      "  rootdir: C:\\Users\\Administrator\n",
      "\n"
     ]
    }
   ],
   "source": [
    "import pytest\n",
    "import sys\n",
    "sys.path.append(r'../cluster_analysis/')\n",
    "import cluster\n",
    "\n",
    "class Testmethod:\n",
    "    rep_list,dep_list,data = cluster.load_data('../data/dependency_data_8k.json')\n",
    "    model = cluster.d2v(dep_list)\n",
    "    print('-----------')\n",
    "    print('Kmeans:')\n",
    "    kmeans_dict = cluster.kmeans(10,model,rep_list)\n",
    "    print('-----------')\n",
    "    print('GMM:')\n",
    "    GMM_pro = cluster.gmm(10,model)\n",
    "    print(GMM_pro)\n",
    "    print('-----------')\n",
    "    print('LDA:')\n",
    "    LDA_pro, LDA_dict = cluster.LDA(data,rep_list)\n",
    "        \n",
    "if __name__ == \"__main__\":\n",
    "    pytest.main()"
   ]
  }
 ],
 "metadata": {
  "kernelspec": {
   "display_name": "Python 3",
   "language": "python",
   "name": "python3"
  },
  "language_info": {
   "codemirror_mode": {
    "name": "ipython",
    "version": 3
   },
   "file_extension": ".py",
   "mimetype": "text/x-python",
   "name": "python",
   "nbconvert_exporter": "python",
   "pygments_lexer": "ipython3",
   "version": "3.8.3"
  }
 },
 "nbformat": 4,
 "nbformat_minor": 4
}
