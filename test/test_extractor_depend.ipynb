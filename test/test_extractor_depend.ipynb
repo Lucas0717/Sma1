{
 "cells": [
  {
   "cell_type": "code",
   "execution_count": null,
   "metadata": {},
   "outputs": [
    {
     "name": "stderr",
     "output_type": "stream",
     "text": [
      " 13%|██████████▏                                                                    | 185/1440 [02:29<16:58,  1.23it/s]"
     ]
    }
   ],
   "source": [
    "import unittest\n",
    "import extractor_depend\n",
    "import os\n",
    "\n",
    "class Testextract(unittest.TestCase):\n",
    "    def test_extractor(self):\n",
    "        input_file = '../xkcd2347/3k_valid_repos'\n",
    "        output_file = '3k_repodata_test'\n",
    "        git_hub_key = 'b3643745a923e31a34fa5f56f33b59fba810241f'\n",
    "        hop = 1\n",
    "        extractor_depend.getDependencies(input_file, output_file, git_hub_key, hop)\n",
    "\n",
    "if __name__ == \"__main__\":\n",
    "    unittest.main(argv=['first-arg-is-ignored'], exit=False)"
   ]
  },
  {
   "cell_type": "code",
   "execution_count": null,
   "metadata": {},
   "outputs": [],
   "source": []
  }
 ],
 "metadata": {
  "kernelspec": {
   "display_name": "Python 3",
   "language": "python",
   "name": "python3"
  },
  "language_info": {
   "codemirror_mode": {
    "name": "ipython",
    "version": 3
   },
   "file_extension": ".py",
   "mimetype": "text/x-python",
   "name": "python",
   "nbconvert_exporter": "python",
   "pygments_lexer": "ipython3",
   "version": "3.8.3"
  }
 },
 "nbformat": 4,
 "nbformat_minor": 4
}
