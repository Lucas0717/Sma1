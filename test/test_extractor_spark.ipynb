{
 "cells": [
  {
   "cell_type": "code",
   "execution_count": 10,
   "metadata": {},
   "outputs": [
    {
     "name": "stderr",
     "output_type": "stream",
     "text": [
      "C:\\Users\\Administrator\\Downloads\\SMA-master\\test\\extractor_spark.py:33: ResourceWarning: unclosed file <_io.BufferedWriter name=4>\n",
      "  print(\"Error running spark job\")\n",
      "ResourceWarning: Enable tracemalloc to get the object allocation traceback\n",
      "E"
     ]
    },
    {
     "name": "stdout",
     "output_type": "stream",
     "text": [
      "Error running spark job\n"
     ]
    },
    {
     "name": "stderr",
     "output_type": "stream",
     "text": [
      "\n",
      "======================================================================\n",
      "ERROR: test_extractor (__main__.Testextract)\n",
      "----------------------------------------------------------------------\n",
      "Traceback (most recent call last):\n",
      "  File \"<ipython-input-10-6400ca55dc6f>\", line 11, in test_extractor\n",
      "    extractor_spark.getDependencies(input_file, output_file, git_hub_key, hop, partitions)\n",
      "  File \"C:\\Users\\Administrator\\Downloads\\SMA-master\\test\\extractor_spark.py\", line 37, in getDependencies\n",
      "    sc.stop()\n",
      "UnboundLocalError: local variable 'sc' referenced before assignment\n",
      "\n",
      "----------------------------------------------------------------------\n",
      "Ran 1 test in 1.552s\n",
      "\n",
      "FAILED (errors=1)\n"
     ]
    }
   ],
   "source": [
    "import unittest\n",
    "import extractor_spark\n",
    "\n",
    "class Testextract(unittest.TestCase):\n",
    "    def test_extractor(self):\n",
    "        input_file = '../xkcd2347/data_collection/Input_data/3k_valid_repos'\n",
    "        output_file = '3krepodata_test'\n",
    "        git_hub_key = 'github_token'\n",
    "        hop = 1\n",
    "        partitions = 2\n",
    "        extractor_spark.getDependencies(input_file, output_file, git_hub_key, hop, partitions)    \n",
    "if __name__ == \"__main__\":\n",
    "    unittest.main(argv=['first-arg-is-ignored'], exit=False)"
   ]
  },
  {
   "cell_type": "code",
   "execution_count": 9,
   "metadata": {},
   "outputs": [
    {
     "name": "stdout",
     "output_type": "stream",
     "text": [
      "Error running spark job\n"
     ]
    }
   ],
   "source": [
    "import xkcd2347\n",
    "import json\n",
    "from pyspark import SparkContext\n",
    "from tqdm import tqdm\n",
    "import sys\n",
    "\n",
    "def getDependencies(input_file, output_file, git_hub_key, hop, partitions):\n",
    "    dependency_data = {}\n",
    "    no_dependency_data = []\n",
    "    gitLink = []\n",
    "\n",
    "    gh = xkcd2347.GitHub(key = git_hub_key)\n",
    "    result = []\n",
    "\n",
    "    def process_line(link):\n",
    "        link = link.rstrip()\n",
    "        owner, repo = link.split(\".com/\")[1].split(\"/\")\n",
    "        result = [dep['packageName'] for dep in gh.get_dependencies(repo_owner = owner, repo_name = repo, depth = hop)]\n",
    "        if(len(result) > 0):\n",
    "            return (link, result)\n",
    "        else:\n",
    "            return (link, [\"No dependency\"])\n",
    "    try:\n",
    "        sc = SparkContext(\"local[*]\",\"PySpark Tutorial\")\n",
    "        result = sc.textFile(input_file, partitions).map(process_line).collect()\n",
    "    except:\n",
    "        print(\"Error running spark job\")\n",
    "\n",
    "    with open(output_file, 'w') as fp:\n",
    "        json.dump(dict(result), fp, indent=4)\n",
    "    #sc.stop()\n",
    "\n",
    "if __name__ == \"__main__\":\n",
    "    input_file = ' 3k_valid_repos'\n",
    "    output_file = '3krepodata_test'\n",
    "    git_hub_key = 'github_token'\n",
    "    hop = 1\n",
    "    partitions = 8\n",
    "    getDependencies(input_file, output_file, git_hub_key, hop, partitions)"
   ]
  },
  {
   "cell_type": "code",
   "execution_count": null,
   "metadata": {},
   "outputs": [],
   "source": []
  }
 ],
 "metadata": {
  "kernelspec": {
   "display_name": "Python 3",
   "language": "python",
   "name": "python3"
  },
  "language_info": {
   "codemirror_mode": {
    "name": "ipython",
    "version": 3
   },
   "file_extension": ".py",
   "mimetype": "text/x-python",
   "name": "python",
   "nbconvert_exporter": "python",
   "pygments_lexer": "ipython3",
   "version": "3.8.3"
  }
 },
 "nbformat": 4,
 "nbformat_minor": 4
}
